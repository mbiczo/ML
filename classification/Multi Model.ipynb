{
 "cells": [
  {
   "cell_type": "markdown",
   "metadata": {},
   "source": [
    "Decision Tree Example\n",
    "=====================\n",
    "\n",
    "* TODO: Research feature threshold splitting\n",
    "* TODO: learn more about working with imbalanced data classes\n",
    "* TODO: Research Backtracking to prevent getting stuck in a local optima"
   ]
  },
  {
   "cell_type": "code",
   "execution_count": 1,
   "metadata": {
    "collapsed": false
   },
   "outputs": [],
   "source": [
    "import io\n",
    "import os\n",
    "import pydot\n",
    "import pandas as pd\n",
    "import numpy as np\n",
    "import matplotlib.pyplot as plt\n",
    "\n",
    "from numpy import random\n",
    "from struct import unpack\n",
    "\n",
    "from sklearn import metrics\n",
    "from sklearn.cross_validation import KFold   #For K-fold cross validation\n",
    "from sklearn.cross_validation import train_test_split\n",
    "\n",
    "from sklearn.preprocessing import LabelEncoder\n",
    "from sklearn.preprocessing import OneHotEncoder\n",
    "\n",
    "from sklearn.linear_model import LogisticRegression\n",
    "from sklearn.ensemble import RandomForestClassifier\n",
    "from sklearn.tree import DecisionTreeClassifier, export_graphviz\n",
    "\n",
    "from graphviz import Digraph\n",
    "\n",
    "%matplotlib inline"
   ]
  },
  {
   "cell_type": "markdown",
   "metadata": {},
   "source": [
    "Import & Inspect raw data\n",
    "========================="
   ]
  },
  {
   "cell_type": "code",
   "execution_count": 2,
   "metadata": {
    "collapsed": false
   },
   "outputs": [],
   "source": [
    "loans = pd.read_csv(r'../data/Trees/lending-club-data.csv', low_memory= False)"
   ]
  },
  {
   "cell_type": "code",
   "execution_count": 3,
   "metadata": {
    "collapsed": false
   },
   "outputs": [
    {
     "data": {
      "text/plain": [
       "122607"
      ]
     },
     "execution_count": 3,
     "metadata": {},
     "output_type": "execute_result"
    }
   ],
   "source": [
    "len(loans)"
   ]
  },
  {
   "cell_type": "code",
   "execution_count": 4,
   "metadata": {
    "collapsed": false
   },
   "outputs": [
    {
     "data": {
      "text/plain": [
       "Index(['id', 'member_id', 'loan_amnt', 'funded_amnt', 'funded_amnt_inv',\n",
       "       'term', 'int_rate', 'installment', 'grade', 'sub_grade', 'emp_title',\n",
       "       'emp_length', 'home_ownership', 'annual_inc', 'is_inc_v', 'issue_d',\n",
       "       'loan_status', 'pymnt_plan', 'url', 'desc', 'purpose', 'title',\n",
       "       'zip_code', 'addr_state', 'dti', 'delinq_2yrs', 'earliest_cr_line',\n",
       "       'inq_last_6mths', 'mths_since_last_delinq', 'mths_since_last_record',\n",
       "       'open_acc', 'pub_rec', 'revol_bal', 'revol_util', 'total_acc',\n",
       "       'initial_list_status', 'out_prncp', 'out_prncp_inv', 'total_pymnt',\n",
       "       'total_pymnt_inv', 'total_rec_prncp', 'total_rec_int',\n",
       "       'total_rec_late_fee', 'recoveries', 'collection_recovery_fee',\n",
       "       'last_pymnt_d', 'last_pymnt_amnt', 'next_pymnt_d', 'last_credit_pull_d',\n",
       "       'collections_12_mths_ex_med', 'mths_since_last_major_derog',\n",
       "       'policy_code', 'not_compliant', 'status', 'inactive_loans', 'bad_loans',\n",
       "       'emp_length_num', 'grade_num', 'sub_grade_num', 'delinq_2yrs_zero',\n",
       "       'pub_rec_zero', 'collections_12_mths_zero', 'short_emp',\n",
       "       'payment_inc_ratio', 'final_d', 'last_delinq_none', 'last_record_none',\n",
       "       'last_major_derog_none'],\n",
       "      dtype='object')"
      ]
     },
     "execution_count": 4,
     "metadata": {},
     "output_type": "execute_result"
    }
   ],
   "source": [
    "loans.columns"
   ]
  },
  {
   "cell_type": "code",
   "execution_count": 5,
   "metadata": {
    "collapsed": false
   },
   "outputs": [
    {
     "data": {
      "text/html": [
       "<div>\n",
       "<table border=\"1\" class=\"dataframe\">\n",
       "  <thead>\n",
       "    <tr style=\"text-align: right;\">\n",
       "      <th></th>\n",
       "      <th>id</th>\n",
       "      <th>member_id</th>\n",
       "      <th>loan_amnt</th>\n",
       "      <th>funded_amnt</th>\n",
       "      <th>funded_amnt_inv</th>\n",
       "      <th>term</th>\n",
       "      <th>int_rate</th>\n",
       "      <th>installment</th>\n",
       "      <th>grade</th>\n",
       "      <th>sub_grade</th>\n",
       "      <th>...</th>\n",
       "      <th>sub_grade_num</th>\n",
       "      <th>delinq_2yrs_zero</th>\n",
       "      <th>pub_rec_zero</th>\n",
       "      <th>collections_12_mths_zero</th>\n",
       "      <th>short_emp</th>\n",
       "      <th>payment_inc_ratio</th>\n",
       "      <th>final_d</th>\n",
       "      <th>last_delinq_none</th>\n",
       "      <th>last_record_none</th>\n",
       "      <th>last_major_derog_none</th>\n",
       "    </tr>\n",
       "  </thead>\n",
       "  <tbody>\n",
       "    <tr>\n",
       "      <th>0</th>\n",
       "      <td>1077501</td>\n",
       "      <td>1296599</td>\n",
       "      <td>5000</td>\n",
       "      <td>5000</td>\n",
       "      <td>4975</td>\n",
       "      <td>36 months</td>\n",
       "      <td>10.65</td>\n",
       "      <td>162.87</td>\n",
       "      <td>B</td>\n",
       "      <td>B2</td>\n",
       "      <td>...</td>\n",
       "      <td>0.4</td>\n",
       "      <td>1</td>\n",
       "      <td>1</td>\n",
       "      <td>1</td>\n",
       "      <td>0</td>\n",
       "      <td>8.14350</td>\n",
       "      <td>20141201T000000</td>\n",
       "      <td>1</td>\n",
       "      <td>1</td>\n",
       "      <td>1</td>\n",
       "    </tr>\n",
       "    <tr>\n",
       "      <th>1</th>\n",
       "      <td>1077430</td>\n",
       "      <td>1314167</td>\n",
       "      <td>2500</td>\n",
       "      <td>2500</td>\n",
       "      <td>2500</td>\n",
       "      <td>60 months</td>\n",
       "      <td>15.27</td>\n",
       "      <td>59.83</td>\n",
       "      <td>C</td>\n",
       "      <td>C4</td>\n",
       "      <td>...</td>\n",
       "      <td>0.8</td>\n",
       "      <td>1</td>\n",
       "      <td>1</td>\n",
       "      <td>1</td>\n",
       "      <td>1</td>\n",
       "      <td>2.39320</td>\n",
       "      <td>20161201T000000</td>\n",
       "      <td>1</td>\n",
       "      <td>1</td>\n",
       "      <td>1</td>\n",
       "    </tr>\n",
       "    <tr>\n",
       "      <th>2</th>\n",
       "      <td>1077175</td>\n",
       "      <td>1313524</td>\n",
       "      <td>2400</td>\n",
       "      <td>2400</td>\n",
       "      <td>2400</td>\n",
       "      <td>36 months</td>\n",
       "      <td>15.96</td>\n",
       "      <td>84.33</td>\n",
       "      <td>C</td>\n",
       "      <td>C5</td>\n",
       "      <td>...</td>\n",
       "      <td>1.0</td>\n",
       "      <td>1</td>\n",
       "      <td>1</td>\n",
       "      <td>1</td>\n",
       "      <td>0</td>\n",
       "      <td>8.25955</td>\n",
       "      <td>20141201T000000</td>\n",
       "      <td>1</td>\n",
       "      <td>1</td>\n",
       "      <td>1</td>\n",
       "    </tr>\n",
       "    <tr>\n",
       "      <th>3</th>\n",
       "      <td>1076863</td>\n",
       "      <td>1277178</td>\n",
       "      <td>10000</td>\n",
       "      <td>10000</td>\n",
       "      <td>10000</td>\n",
       "      <td>36 months</td>\n",
       "      <td>13.49</td>\n",
       "      <td>339.31</td>\n",
       "      <td>C</td>\n",
       "      <td>C1</td>\n",
       "      <td>...</td>\n",
       "      <td>0.2</td>\n",
       "      <td>1</td>\n",
       "      <td>1</td>\n",
       "      <td>1</td>\n",
       "      <td>0</td>\n",
       "      <td>8.27585</td>\n",
       "      <td>20141201T000000</td>\n",
       "      <td>0</td>\n",
       "      <td>1</td>\n",
       "      <td>1</td>\n",
       "    </tr>\n",
       "    <tr>\n",
       "      <th>4</th>\n",
       "      <td>1075269</td>\n",
       "      <td>1311441</td>\n",
       "      <td>5000</td>\n",
       "      <td>5000</td>\n",
       "      <td>5000</td>\n",
       "      <td>36 months</td>\n",
       "      <td>7.90</td>\n",
       "      <td>156.46</td>\n",
       "      <td>A</td>\n",
       "      <td>A4</td>\n",
       "      <td>...</td>\n",
       "      <td>0.8</td>\n",
       "      <td>1</td>\n",
       "      <td>1</td>\n",
       "      <td>1</td>\n",
       "      <td>0</td>\n",
       "      <td>5.21533</td>\n",
       "      <td>20141201T000000</td>\n",
       "      <td>1</td>\n",
       "      <td>1</td>\n",
       "      <td>1</td>\n",
       "    </tr>\n",
       "  </tbody>\n",
       "</table>\n",
       "<p>5 rows × 68 columns</p>\n",
       "</div>"
      ],
      "text/plain": [
       "        id  member_id  loan_amnt  funded_amnt  funded_amnt_inv        term  \\\n",
       "0  1077501    1296599       5000         5000             4975   36 months   \n",
       "1  1077430    1314167       2500         2500             2500   60 months   \n",
       "2  1077175    1313524       2400         2400             2400   36 months   \n",
       "3  1076863    1277178      10000        10000            10000   36 months   \n",
       "4  1075269    1311441       5000         5000             5000   36 months   \n",
       "\n",
       "   int_rate  installment grade sub_grade          ...          sub_grade_num  \\\n",
       "0     10.65       162.87     B        B2          ...                    0.4   \n",
       "1     15.27        59.83     C        C4          ...                    0.8   \n",
       "2     15.96        84.33     C        C5          ...                    1.0   \n",
       "3     13.49       339.31     C        C1          ...                    0.2   \n",
       "4      7.90       156.46     A        A4          ...                    0.8   \n",
       "\n",
       "  delinq_2yrs_zero pub_rec_zero  collections_12_mths_zero short_emp  \\\n",
       "0                1            1                         1         0   \n",
       "1                1            1                         1         1   \n",
       "2                1            1                         1         0   \n",
       "3                1            1                         1         0   \n",
       "4                1            1                         1         0   \n",
       "\n",
       "  payment_inc_ratio          final_d last_delinq_none last_record_none  \\\n",
       "0           8.14350  20141201T000000                1                1   \n",
       "1           2.39320  20161201T000000                1                1   \n",
       "2           8.25955  20141201T000000                1                1   \n",
       "3           8.27585  20141201T000000                0                1   \n",
       "4           5.21533  20141201T000000                1                1   \n",
       "\n",
       "  last_major_derog_none  \n",
       "0                     1  \n",
       "1                     1  \n",
       "2                     1  \n",
       "3                     1  \n",
       "4                     1  \n",
       "\n",
       "[5 rows x 68 columns]"
      ]
     },
     "execution_count": 5,
     "metadata": {},
     "output_type": "execute_result"
    }
   ],
   "source": [
    "loans.head()"
   ]
  },
  {
   "cell_type": "markdown",
   "metadata": {},
   "source": [
    "### Set target attribute logic"
   ]
  },
  {
   "cell_type": "code",
   "execution_count": 6,
   "metadata": {
    "collapsed": false
   },
   "outputs": [],
   "source": [
    "loans['safe_loans'] = loans['bad_loans'].apply(lambda x : +1 if x==0 else -1)\n",
    "loans = loans.drop('bad_loans', axis= 1)"
   ]
  },
  {
   "cell_type": "code",
   "execution_count": 7,
   "metadata": {
    "collapsed": false
   },
   "outputs": [
    {
     "data": {
      "text/plain": [
       "0.8111853319957262"
      ]
     },
     "execution_count": 7,
     "metadata": {},
     "output_type": "execute_result"
    }
   ],
   "source": [
    "len(loans['safe_loans'][loans['safe_loans'] == 1]) / len(loans)"
   ]
  },
  {
   "cell_type": "markdown",
   "metadata": {},
   "source": [
    "### Set desired features reduce df"
   ]
  },
  {
   "cell_type": "code",
   "execution_count": 8,
   "metadata": {
    "collapsed": true
   },
   "outputs": [],
   "source": [
    "features = ['grade', \n",
    "            'sub_grade', \n",
    "            'short_emp', \n",
    "            'emp_length_num', \n",
    "            'home_ownership', \n",
    "            'dti', \n",
    "            'purpose', \n",
    "            'term', \n",
    "            'last_delinq_none', \n",
    "            'last_major_derog_none',\n",
    "            'revol_util',\n",
    "            'total_rec_late_fee',\n",
    "           ]\n",
    "\n",
    "target = 'safe_loans'"
   ]
  },
  {
   "cell_type": "code",
   "execution_count": 9,
   "metadata": {
    "collapsed": true
   },
   "outputs": [],
   "source": [
    "loans = loans[features + [target]]"
   ]
  },
  {
   "cell_type": "code",
   "execution_count": 10,
   "metadata": {
    "collapsed": false
   },
   "outputs": [
    {
     "data": {
      "text/html": [
       "<div>\n",
       "<table border=\"1\" class=\"dataframe\">\n",
       "  <thead>\n",
       "    <tr style=\"text-align: right;\">\n",
       "      <th></th>\n",
       "      <th>grade</th>\n",
       "      <th>sub_grade</th>\n",
       "      <th>short_emp</th>\n",
       "      <th>emp_length_num</th>\n",
       "      <th>home_ownership</th>\n",
       "      <th>dti</th>\n",
       "      <th>purpose</th>\n",
       "      <th>term</th>\n",
       "      <th>last_delinq_none</th>\n",
       "      <th>last_major_derog_none</th>\n",
       "      <th>revol_util</th>\n",
       "      <th>total_rec_late_fee</th>\n",
       "      <th>safe_loans</th>\n",
       "    </tr>\n",
       "  </thead>\n",
       "  <tbody>\n",
       "    <tr>\n",
       "      <th>0</th>\n",
       "      <td>B</td>\n",
       "      <td>B2</td>\n",
       "      <td>0</td>\n",
       "      <td>11</td>\n",
       "      <td>RENT</td>\n",
       "      <td>27.65</td>\n",
       "      <td>credit_card</td>\n",
       "      <td>36 months</td>\n",
       "      <td>1</td>\n",
       "      <td>1</td>\n",
       "      <td>83.7</td>\n",
       "      <td>0.00</td>\n",
       "      <td>1</td>\n",
       "    </tr>\n",
       "    <tr>\n",
       "      <th>1</th>\n",
       "      <td>C</td>\n",
       "      <td>C4</td>\n",
       "      <td>1</td>\n",
       "      <td>1</td>\n",
       "      <td>RENT</td>\n",
       "      <td>1.00</td>\n",
       "      <td>car</td>\n",
       "      <td>60 months</td>\n",
       "      <td>1</td>\n",
       "      <td>1</td>\n",
       "      <td>9.4</td>\n",
       "      <td>0.00</td>\n",
       "      <td>-1</td>\n",
       "    </tr>\n",
       "    <tr>\n",
       "      <th>2</th>\n",
       "      <td>C</td>\n",
       "      <td>C5</td>\n",
       "      <td>0</td>\n",
       "      <td>11</td>\n",
       "      <td>RENT</td>\n",
       "      <td>8.72</td>\n",
       "      <td>small_business</td>\n",
       "      <td>36 months</td>\n",
       "      <td>1</td>\n",
       "      <td>1</td>\n",
       "      <td>98.5</td>\n",
       "      <td>0.00</td>\n",
       "      <td>1</td>\n",
       "    </tr>\n",
       "    <tr>\n",
       "      <th>3</th>\n",
       "      <td>C</td>\n",
       "      <td>C1</td>\n",
       "      <td>0</td>\n",
       "      <td>11</td>\n",
       "      <td>RENT</td>\n",
       "      <td>20.00</td>\n",
       "      <td>other</td>\n",
       "      <td>36 months</td>\n",
       "      <td>0</td>\n",
       "      <td>1</td>\n",
       "      <td>21.0</td>\n",
       "      <td>16.97</td>\n",
       "      <td>1</td>\n",
       "    </tr>\n",
       "    <tr>\n",
       "      <th>4</th>\n",
       "      <td>A</td>\n",
       "      <td>A4</td>\n",
       "      <td>0</td>\n",
       "      <td>4</td>\n",
       "      <td>RENT</td>\n",
       "      <td>11.20</td>\n",
       "      <td>wedding</td>\n",
       "      <td>36 months</td>\n",
       "      <td>1</td>\n",
       "      <td>1</td>\n",
       "      <td>28.3</td>\n",
       "      <td>0.00</td>\n",
       "      <td>1</td>\n",
       "    </tr>\n",
       "  </tbody>\n",
       "</table>\n",
       "</div>"
      ],
      "text/plain": [
       "  grade sub_grade  short_emp  emp_length_num home_ownership    dti  \\\n",
       "0     B        B2          0              11           RENT  27.65   \n",
       "1     C        C4          1               1           RENT   1.00   \n",
       "2     C        C5          0              11           RENT   8.72   \n",
       "3     C        C1          0              11           RENT  20.00   \n",
       "4     A        A4          0               4           RENT  11.20   \n",
       "\n",
       "          purpose        term  last_delinq_none  last_major_derog_none  \\\n",
       "0     credit_card   36 months                 1                      1   \n",
       "1             car   60 months                 1                      1   \n",
       "2  small_business   36 months                 1                      1   \n",
       "3           other   36 months                 0                      1   \n",
       "4         wedding   36 months                 1                      1   \n",
       "\n",
       "   revol_util  total_rec_late_fee  safe_loans  \n",
       "0        83.7                0.00           1  \n",
       "1         9.4                0.00          -1  \n",
       "2        98.5                0.00           1  \n",
       "3        21.0               16.97           1  \n",
       "4        28.3                0.00           1  "
      ]
     },
     "execution_count": 10,
     "metadata": {},
     "output_type": "execute_result"
    }
   ],
   "source": [
    "loans.head()"
   ]
  },
  {
   "cell_type": "markdown",
   "metadata": {},
   "source": [
    "### Manage target class imbalance"
   ]
  },
  {
   "cell_type": "code",
   "execution_count": 11,
   "metadata": {
    "collapsed": false
   },
   "outputs": [
    {
     "name": "stdout",
     "output_type": "stream",
     "text": [
      "Number of Safe loans is 99457\n",
      "Number of risky loans is 23150\n"
     ]
    }
   ],
   "source": [
    "safe_loans_raw = loans[loans['safe_loans'] == +1]\n",
    "risky_loans_raw = loans[loans['safe_loans'] == -1]\n",
    "\n",
    "print('Number of Safe loans is', len(safe_loans_raw))\n",
    "print('Number of risky loans is', len(risky_loans_raw))"
   ]
  },
  {
   "cell_type": "code",
   "execution_count": 12,
   "metadata": {
    "collapsed": false
   },
   "outputs": [
    {
     "data": {
      "text/plain": [
       "0.2327639080205516"
      ]
     },
     "execution_count": 12,
     "metadata": {},
     "output_type": "execute_result"
    }
   ],
   "source": [
    "percentage = len(risky_loans_raw)/float(len(safe_loans_raw))\n",
    "percentage"
   ]
  },
  {
   "cell_type": "markdown",
   "metadata": {},
   "source": [
    "### Make dataset roughly 50/50"
   ]
  },
  {
   "cell_type": "code",
   "execution_count": 13,
   "metadata": {
    "collapsed": false
   },
   "outputs": [
    {
     "name": "stdout",
     "output_type": "stream",
     "text": [
      "Number of Safe loans is 23150\n",
      "Number of risky loans is 23150\n"
     ]
    }
   ],
   "source": [
    "risky_loans = risky_loans_raw\n",
    "safe_loans = safe_loans_raw.sample(frac= percentage, random_state= 1)\n",
    "\n",
    "print('Number of Safe loans is', len(safe_loans))\n",
    "print('Number of risky loans is', len(risky_loans))"
   ]
  },
  {
   "cell_type": "code",
   "execution_count": 14,
   "metadata": {
    "collapsed": false
   },
   "outputs": [
    {
     "data": {
      "text/plain": [
       "46300"
      ]
     },
     "execution_count": 14,
     "metadata": {},
     "output_type": "execute_result"
    }
   ],
   "source": [
    "loans_data = risky_loans.append(safe_loans)\n",
    "len(loans_data)"
   ]
  },
  {
   "cell_type": "markdown",
   "metadata": {},
   "source": [
    "### Inspect Balanced Output"
   ]
  },
  {
   "cell_type": "code",
   "execution_count": 15,
   "metadata": {
    "collapsed": false
   },
   "outputs": [],
   "source": [
    "loans_data.to_csv(r'../data/Trees/loans_data.csv')"
   ]
  },
  {
   "cell_type": "markdown",
   "metadata": {},
   "source": [
    "### One-hot encoding (TESTING)"
   ]
  },
  {
   "cell_type": "code",
   "execution_count": 16,
   "metadata": {
    "collapsed": false
   },
   "outputs": [
    {
     "name": "stdout",
     "output_type": "stream",
     "text": [
      "grade\n",
      "sub_grade\n",
      "home_ownership\n",
      "purpose\n",
      "term\n",
      "grade\n",
      "<class 'pandas.core.series.Series'>\n",
      "1         {'C': 1}\n",
      "6         {'F': 1}\n",
      "7         {'B': 1}\n",
      "10        {'C': 1}\n",
      "12        {'B': 1}\n",
      "18        {'B': 1}\n",
      "21        {'B': 1}\n",
      "23        {'C': 1}\n",
      "24        {'D': 1}\n",
      "41        {'A': 1}\n",
      "45        {'B': 1}\n",
      "48        {'C': 1}\n",
      "50        {'E': 1}\n",
      "58        {'D': 1}\n",
      "60        {'F': 1}\n",
      "63        {'D': 1}\n",
      "87        {'D': 1}\n",
      "89        {'B': 1}\n",
      "93        {'D': 1}\n",
      "102       {'D': 1}\n",
      "108       {'B': 1}\n",
      "111       {'E': 1}\n",
      "118       {'C': 1}\n",
      "124       {'A': 1}\n",
      "132       {'B': 1}\n",
      "136       {'B': 1}\n",
      "138       {'C': 1}\n",
      "140       {'C': 1}\n",
      "151       {'A': 1}\n",
      "158       {'C': 1}\n",
      "            ...   \n",
      "55027     {'B': 1}\n",
      "100438    {'C': 1}\n",
      "122519    {'D': 1}\n",
      "4161      {'B': 1}\n",
      "13520     {'C': 1}\n",
      "51558     {'C': 1}\n",
      "110837    {'A': 1}\n",
      "83788     {'C': 1}\n",
      "6556      {'D': 1}\n",
      "106731    {'A': 1}\n",
      "111533    {'B': 1}\n",
      "115626    {'C': 1}\n",
      "121848    {'C': 1}\n",
      "108846    {'C': 1}\n",
      "111652    {'C': 1}\n",
      "74640     {'A': 1}\n",
      "90254     {'B': 1}\n",
      "73781     {'C': 1}\n",
      "46499     {'B': 1}\n",
      "6011      {'B': 1}\n",
      "92462     {'C': 1}\n",
      "122138    {'C': 1}\n",
      "98381     {'B': 1}\n",
      "104878    {'C': 1}\n",
      "38265     {'C': 1}\n",
      "10016     {'A': 1}\n",
      "58367     {'B': 1}\n",
      "90431     {'B': 1}\n",
      "115727    {'F': 1}\n",
      "105752    {'D': 1}\n",
      "Name: grade, dtype: object\n",
      "sub_grade\n",
      "<class 'pandas.core.series.Series'>\n",
      "1         {'C4': 1}\n",
      "6         {'F2': 1}\n",
      "7         {'B5': 1}\n",
      "10        {'C1': 1}\n",
      "12        {'B2': 1}\n",
      "18        {'B4': 1}\n",
      "21        {'B3': 1}\n",
      "23        {'C2': 1}\n",
      "24        {'D2': 1}\n",
      "41        {'A5': 1}\n",
      "45        {'B1': 1}\n",
      "48        {'C5': 1}\n",
      "50        {'E4': 1}\n",
      "58        {'D3': 1}\n",
      "60        {'F2': 1}\n",
      "63        {'D2': 1}\n",
      "87        {'D3': 1}\n",
      "89        {'B1': 1}\n",
      "93        {'D2': 1}\n",
      "102       {'D5': 1}\n",
      "108       {'B2': 1}\n",
      "111       {'E4': 1}\n",
      "118       {'C5': 1}\n",
      "124       {'A2': 1}\n",
      "132       {'B1': 1}\n",
      "136       {'B3': 1}\n",
      "138       {'C1': 1}\n",
      "140       {'C3': 1}\n",
      "151       {'A3': 1}\n",
      "158       {'C1': 1}\n",
      "            ...    \n",
      "55027     {'B5': 1}\n",
      "100438    {'C1': 1}\n",
      "122519    {'D4': 1}\n",
      "4161      {'B1': 1}\n",
      "13520     {'C5': 1}\n",
      "51558     {'C4': 1}\n",
      "110837    {'A2': 1}\n",
      "83788     {'C2': 1}\n",
      "6556      {'D1': 1}\n",
      "106731    {'A5': 1}\n",
      "111533    {'B2': 1}\n",
      "115626    {'C5': 1}\n",
      "121848    {'C2': 1}\n",
      "108846    {'C3': 1}\n",
      "111652    {'C5': 1}\n",
      "74640     {'A1': 1}\n",
      "90254     {'B2': 1}\n",
      "73781     {'C3': 1}\n",
      "46499     {'B4': 1}\n",
      "6011      {'B2': 1}\n",
      "92462     {'C1': 1}\n",
      "122138    {'C5': 1}\n",
      "98381     {'B5': 1}\n",
      "104878    {'C1': 1}\n",
      "38265     {'C3': 1}\n",
      "10016     {'A4': 1}\n",
      "58367     {'B1': 1}\n",
      "90431     {'B1': 1}\n",
      "115727    {'F5': 1}\n",
      "105752    {'D5': 1}\n",
      "Name: sub_grade, dtype: object\n",
      "home_ownership\n",
      "<class 'pandas.core.series.Series'>\n",
      "1             {'RENT': 1}\n",
      "6              {'OWN': 1}\n",
      "7             {'RENT': 1}\n",
      "10            {'RENT': 1}\n",
      "12            {'RENT': 1}\n",
      "18            {'RENT': 1}\n",
      "21            {'RENT': 1}\n",
      "23            {'RENT': 1}\n",
      "24            {'RENT': 1}\n",
      "41        {'MORTGAGE': 1}\n",
      "45        {'MORTGAGE': 1}\n",
      "48            {'RENT': 1}\n",
      "50            {'RENT': 1}\n",
      "58            {'RENT': 1}\n",
      "60            {'RENT': 1}\n",
      "63            {'RENT': 1}\n",
      "87        {'MORTGAGE': 1}\n",
      "89            {'RENT': 1}\n",
      "93            {'RENT': 1}\n",
      "102           {'RENT': 1}\n",
      "108           {'RENT': 1}\n",
      "111           {'RENT': 1}\n",
      "118       {'MORTGAGE': 1}\n",
      "124           {'RENT': 1}\n",
      "132           {'RENT': 1}\n",
      "136           {'RENT': 1}\n",
      "138           {'RENT': 1}\n",
      "140       {'MORTGAGE': 1}\n",
      "151            {'OWN': 1}\n",
      "158           {'RENT': 1}\n",
      "               ...       \n",
      "55027     {'MORTGAGE': 1}\n",
      "100438    {'MORTGAGE': 1}\n",
      "122519         {'OWN': 1}\n",
      "4161      {'MORTGAGE': 1}\n",
      "13520         {'RENT': 1}\n",
      "51558     {'MORTGAGE': 1}\n",
      "110837        {'RENT': 1}\n",
      "83788     {'MORTGAGE': 1}\n",
      "6556      {'MORTGAGE': 1}\n",
      "106731    {'MORTGAGE': 1}\n",
      "111533        {'RENT': 1}\n",
      "115626    {'MORTGAGE': 1}\n",
      "121848    {'MORTGAGE': 1}\n",
      "108846    {'MORTGAGE': 1}\n",
      "111652    {'MORTGAGE': 1}\n",
      "74640     {'MORTGAGE': 1}\n",
      "90254         {'RENT': 1}\n",
      "73781     {'MORTGAGE': 1}\n",
      "46499     {'MORTGAGE': 1}\n",
      "6011      {'MORTGAGE': 1}\n",
      "92462         {'RENT': 1}\n",
      "122138    {'MORTGAGE': 1}\n",
      "98381         {'RENT': 1}\n",
      "104878         {'OWN': 1}\n",
      "38265     {'MORTGAGE': 1}\n",
      "10016     {'MORTGAGE': 1}\n",
      "58367     {'MORTGAGE': 1}\n",
      "90431         {'RENT': 1}\n",
      "115727        {'RENT': 1}\n",
      "105752    {'MORTGAGE': 1}\n",
      "Name: home_ownership, dtype: object\n",
      "purpose\n",
      "<class 'pandas.core.series.Series'>\n",
      "1                        {'car': 1}\n",
      "6             {'small_business': 1}\n",
      "7                      {'other': 1}\n",
      "10        {'debt_consolidation': 1}\n",
      "12                     {'other': 1}\n",
      "18        {'debt_consolidation': 1}\n",
      "21            {'major_purchase': 1}\n",
      "23        {'debt_consolidation': 1}\n",
      "24                     {'other': 1}\n",
      "41        {'debt_consolidation': 1}\n",
      "45        {'debt_consolidation': 1}\n",
      "48                       {'car': 1}\n",
      "50        {'debt_consolidation': 1}\n",
      "58        {'debt_consolidation': 1}\n",
      "60            {'small_business': 1}\n",
      "63        {'debt_consolidation': 1}\n",
      "87               {'credit_card': 1}\n",
      "89        {'debt_consolidation': 1}\n",
      "93        {'debt_consolidation': 1}\n",
      "102              {'credit_card': 1}\n",
      "108       {'debt_consolidation': 1}\n",
      "111       {'debt_consolidation': 1}\n",
      "118         {'home_improvement': 1}\n",
      "124              {'credit_card': 1}\n",
      "132       {'debt_consolidation': 1}\n",
      "136       {'debt_consolidation': 1}\n",
      "138              {'credit_card': 1}\n",
      "140       {'debt_consolidation': 1}\n",
      "151       {'debt_consolidation': 1}\n",
      "158           {'small_business': 1}\n",
      "                    ...            \n",
      "55027            {'credit_card': 1}\n",
      "100438    {'debt_consolidation': 1}\n",
      "122519    {'debt_consolidation': 1}\n",
      "4161             {'credit_card': 1}\n",
      "13520     {'debt_consolidation': 1}\n",
      "51558            {'credit_card': 1}\n",
      "110837           {'credit_card': 1}\n",
      "83788     {'debt_consolidation': 1}\n",
      "6556      {'debt_consolidation': 1}\n",
      "106731    {'debt_consolidation': 1}\n",
      "111533    {'debt_consolidation': 1}\n",
      "115626           {'credit_card': 1}\n",
      "121848    {'debt_consolidation': 1}\n",
      "108846      {'home_improvement': 1}\n",
      "111652    {'debt_consolidation': 1}\n",
      "74640     {'debt_consolidation': 1}\n",
      "90254     {'debt_consolidation': 1}\n",
      "73781            {'credit_card': 1}\n",
      "46499     {'debt_consolidation': 1}\n",
      "6011             {'credit_card': 1}\n",
      "92462            {'credit_card': 1}\n",
      "122138    {'debt_consolidation': 1}\n",
      "98381     {'debt_consolidation': 1}\n",
      "104878           {'credit_card': 1}\n",
      "38265            {'credit_card': 1}\n",
      "10016     {'debt_consolidation': 1}\n",
      "58367     {'debt_consolidation': 1}\n",
      "90431     {'debt_consolidation': 1}\n",
      "115727    {'debt_consolidation': 1}\n",
      "105752    {'debt_consolidation': 1}\n",
      "Name: purpose, dtype: object\n",
      "term\n",
      "<class 'pandas.core.series.Series'>\n",
      "1         {' 60 months': 1}\n",
      "6         {' 60 months': 1}\n",
      "7         {' 60 months': 1}\n",
      "10        {' 36 months': 1}\n",
      "12        {' 36 months': 1}\n",
      "18        {' 36 months': 1}\n",
      "21        {' 36 months': 1}\n",
      "23        {' 36 months': 1}\n",
      "24        {' 60 months': 1}\n",
      "41        {' 36 months': 1}\n",
      "45        {' 36 months': 1}\n",
      "48        {' 36 months': 1}\n",
      "50        {' 60 months': 1}\n",
      "58        {' 60 months': 1}\n",
      "60        {' 60 months': 1}\n",
      "63        {' 36 months': 1}\n",
      "87        {' 60 months': 1}\n",
      "89        {' 36 months': 1}\n",
      "93        {' 60 months': 1}\n",
      "102       {' 36 months': 1}\n",
      "108       {' 36 months': 1}\n",
      "111       {' 60 months': 1}\n",
      "118       {' 36 months': 1}\n",
      "124       {' 36 months': 1}\n",
      "132       {' 36 months': 1}\n",
      "136       {' 36 months': 1}\n",
      "138       {' 60 months': 1}\n",
      "140       {' 36 months': 1}\n",
      "151       {' 36 months': 1}\n",
      "158       {' 36 months': 1}\n",
      "                ...        \n",
      "55027     {' 36 months': 1}\n",
      "100438    {' 36 months': 1}\n",
      "122519    {' 36 months': 1}\n",
      "4161      {' 36 months': 1}\n",
      "13520     {' 60 months': 1}\n",
      "51558     {' 36 months': 1}\n",
      "110837    {' 36 months': 1}\n",
      "83788     {' 36 months': 1}\n",
      "6556      {' 36 months': 1}\n",
      "106731    {' 60 months': 1}\n",
      "111533    {' 36 months': 1}\n",
      "115626    {' 60 months': 1}\n",
      "121848    {' 60 months': 1}\n",
      "108846    {' 60 months': 1}\n",
      "111652    {' 36 months': 1}\n",
      "74640     {' 36 months': 1}\n",
      "90254     {' 36 months': 1}\n",
      "73781     {' 36 months': 1}\n",
      "46499     {' 36 months': 1}\n",
      "6011      {' 36 months': 1}\n",
      "92462     {' 36 months': 1}\n",
      "122138    {' 60 months': 1}\n",
      "98381     {' 36 months': 1}\n",
      "104878    {' 36 months': 1}\n",
      "38265     {' 60 months': 1}\n",
      "10016     {' 36 months': 1}\n",
      "58367     {' 36 months': 1}\n",
      "90431     {' 36 months': 1}\n",
      "115727    {' 60 months': 1}\n",
      "105752    {' 60 months': 1}\n",
      "Name: term, dtype: object\n"
     ]
    }
   ],
   "source": [
    "categorical_variables = []\n",
    "\n",
    "for feat_name, feat_type in zip(loans_data.columns, loans_data.dtypes):\n",
    "    #print('name',feat_name)\n",
    "    #print('type',feat_type)\n",
    "    if feat_type == object:\n",
    "        categorical_variables.append(feat_name)\n",
    "        print(feat_name)\n",
    "        \n",
    "for feature in categorical_variables:\n",
    "    print(feature)\n",
    "    loans_data_one_hot_encoded = loans_data[feature].apply(lambda x: {x: 1})\n",
    "    print(type(loans_data_one_hot_encoded))\n",
    "    print(loans_data_one_hot_encoded)\n",
    "    #loans_data_unpacked = loans_data_one_hot_encoded.unpack(column_name_prefix= feature)\n",
    "    '''\n",
    "    for column in loans_data_unpacked.columns:\n",
    "        loan_data_unpacked[column] = loans_data_unpacked[column].fillna(0)\n",
    "        \n",
    "    loans_data.remove_column(feature)\n",
    "    loans_data.add_columns(loans_data_unpacked)\n",
    "    '''"
   ]
  },
  {
   "cell_type": "markdown",
   "metadata": {},
   "source": [
    "### Use Pandas for vectorizing categorical data"
   ]
  },
  {
   "cell_type": "code",
   "execution_count": 17,
   "metadata": {
    "collapsed": false,
    "scrolled": true
   },
   "outputs": [],
   "source": [
    "loans_data_d = pd.get_dummies(loans_data)\n",
    "\n",
    "loans_data_d.to_csv(r'../data/Trees/loans_data_d.csv')"
   ]
  },
  {
   "cell_type": "code",
   "execution_count": 18,
   "metadata": {
    "collapsed": false
   },
   "outputs": [
    {
     "name": "stdout",
     "output_type": "stream",
     "text": [
      "grade\n",
      "sub_grade\n",
      "short_emp\n",
      "emp_length_num\n",
      "home_ownership\n",
      "dti\n",
      "purpose\n",
      "term\n",
      "last_delinq_none\n",
      "last_major_derog_none\n",
      "revol_util\n",
      "total_rec_late_fee\n"
     ]
    }
   ],
   "source": [
    "le = LabelEncoder()\n",
    "\n",
    "for feature in features:\n",
    "    print(feature)\n",
    "    loans_data[feature] = le.fit_transform(loans_data[feature])"
   ]
  },
  {
   "cell_type": "code",
   "execution_count": 19,
   "metadata": {
    "collapsed": false
   },
   "outputs": [
    {
     "data": {
      "text/html": [
       "<div>\n",
       "<table border=\"1\" class=\"dataframe\">\n",
       "  <thead>\n",
       "    <tr style=\"text-align: right;\">\n",
       "      <th></th>\n",
       "      <th>grade</th>\n",
       "      <th>sub_grade</th>\n",
       "      <th>short_emp</th>\n",
       "      <th>emp_length_num</th>\n",
       "      <th>home_ownership</th>\n",
       "      <th>dti</th>\n",
       "      <th>purpose</th>\n",
       "      <th>term</th>\n",
       "      <th>last_delinq_none</th>\n",
       "      <th>last_major_derog_none</th>\n",
       "      <th>revol_util</th>\n",
       "      <th>total_rec_late_fee</th>\n",
       "      <th>safe_loans</th>\n",
       "    </tr>\n",
       "  </thead>\n",
       "  <tbody>\n",
       "    <tr>\n",
       "      <th>1</th>\n",
       "      <td>2</td>\n",
       "      <td>13</td>\n",
       "      <td>1</td>\n",
       "      <td>1</td>\n",
       "      <td>3</td>\n",
       "      <td>95</td>\n",
       "      <td>0</td>\n",
       "      <td>1</td>\n",
       "      <td>1</td>\n",
       "      <td>1</td>\n",
       "      <td>107</td>\n",
       "      <td>0</td>\n",
       "      <td>-1</td>\n",
       "    </tr>\n",
       "    <tr>\n",
       "      <th>6</th>\n",
       "      <td>5</td>\n",
       "      <td>26</td>\n",
       "      <td>0</td>\n",
       "      <td>5</td>\n",
       "      <td>2</td>\n",
       "      <td>550</td>\n",
       "      <td>9</td>\n",
       "      <td>1</td>\n",
       "      <td>1</td>\n",
       "      <td>1</td>\n",
       "      <td>347</td>\n",
       "      <td>0</td>\n",
       "      <td>-1</td>\n",
       "    </tr>\n",
       "    <tr>\n",
       "      <th>7</th>\n",
       "      <td>1</td>\n",
       "      <td>9</td>\n",
       "      <td>1</td>\n",
       "      <td>1</td>\n",
       "      <td>3</td>\n",
       "      <td>1803</td>\n",
       "      <td>8</td>\n",
       "      <td>1</td>\n",
       "      <td>1</td>\n",
       "      <td>1</td>\n",
       "      <td>387</td>\n",
       "      <td>0</td>\n",
       "      <td>-1</td>\n",
       "    </tr>\n",
       "    <tr>\n",
       "      <th>10</th>\n",
       "      <td>2</td>\n",
       "      <td>10</td>\n",
       "      <td>1</td>\n",
       "      <td>1</td>\n",
       "      <td>3</td>\n",
       "      <td>1003</td>\n",
       "      <td>2</td>\n",
       "      <td>0</td>\n",
       "      <td>1</td>\n",
       "      <td>1</td>\n",
       "      <td>948</td>\n",
       "      <td>0</td>\n",
       "      <td>-1</td>\n",
       "    </tr>\n",
       "    <tr>\n",
       "      <th>12</th>\n",
       "      <td>1</td>\n",
       "      <td>6</td>\n",
       "      <td>0</td>\n",
       "      <td>4</td>\n",
       "      <td>3</td>\n",
       "      <td>701</td>\n",
       "      <td>8</td>\n",
       "      <td>0</td>\n",
       "      <td>1</td>\n",
       "      <td>1</td>\n",
       "      <td>583</td>\n",
       "      <td>0</td>\n",
       "      <td>-1</td>\n",
       "    </tr>\n",
       "    <tr>\n",
       "      <th>18</th>\n",
       "      <td>1</td>\n",
       "      <td>8</td>\n",
       "      <td>0</td>\n",
       "      <td>11</td>\n",
       "      <td>3</td>\n",
       "      <td>1317</td>\n",
       "      <td>2</td>\n",
       "      <td>0</td>\n",
       "      <td>1</td>\n",
       "      <td>1</td>\n",
       "      <td>934</td>\n",
       "      <td>0</td>\n",
       "      <td>-1</td>\n",
       "    </tr>\n",
       "    <tr>\n",
       "      <th>21</th>\n",
       "      <td>1</td>\n",
       "      <td>7</td>\n",
       "      <td>0</td>\n",
       "      <td>2</td>\n",
       "      <td>3</td>\n",
       "      <td>235</td>\n",
       "      <td>5</td>\n",
       "      <td>0</td>\n",
       "      <td>1</td>\n",
       "      <td>1</td>\n",
       "      <td>316</td>\n",
       "      <td>0</td>\n",
       "      <td>-1</td>\n",
       "    </tr>\n",
       "    <tr>\n",
       "      <th>23</th>\n",
       "      <td>2</td>\n",
       "      <td>11</td>\n",
       "      <td>0</td>\n",
       "      <td>10</td>\n",
       "      <td>3</td>\n",
       "      <td>1517</td>\n",
       "      <td>2</td>\n",
       "      <td>0</td>\n",
       "      <td>1</td>\n",
       "      <td>1</td>\n",
       "      <td>606</td>\n",
       "      <td>0</td>\n",
       "      <td>-1</td>\n",
       "    </tr>\n",
       "    <tr>\n",
       "      <th>24</th>\n",
       "      <td>3</td>\n",
       "      <td>16</td>\n",
       "      <td>0</td>\n",
       "      <td>3</td>\n",
       "      <td>3</td>\n",
       "      <td>1392</td>\n",
       "      <td>8</td>\n",
       "      <td>1</td>\n",
       "      <td>0</td>\n",
       "      <td>1</td>\n",
       "      <td>625</td>\n",
       "      <td>0</td>\n",
       "      <td>-1</td>\n",
       "    </tr>\n",
       "    <tr>\n",
       "      <th>41</th>\n",
       "      <td>0</td>\n",
       "      <td>4</td>\n",
       "      <td>0</td>\n",
       "      <td>11</td>\n",
       "      <td>0</td>\n",
       "      <td>1628</td>\n",
       "      <td>2</td>\n",
       "      <td>0</td>\n",
       "      <td>1</td>\n",
       "      <td>1</td>\n",
       "      <td>651</td>\n",
       "      <td>0</td>\n",
       "      <td>-1</td>\n",
       "    </tr>\n",
       "    <tr>\n",
       "      <th>45</th>\n",
       "      <td>1</td>\n",
       "      <td>5</td>\n",
       "      <td>0</td>\n",
       "      <td>9</td>\n",
       "      <td>0</td>\n",
       "      <td>907</td>\n",
       "      <td>2</td>\n",
       "      <td>0</td>\n",
       "      <td>1</td>\n",
       "      <td>1</td>\n",
       "      <td>667</td>\n",
       "      <td>840</td>\n",
       "      <td>-1</td>\n",
       "    </tr>\n",
       "    <tr>\n",
       "      <th>48</th>\n",
       "      <td>2</td>\n",
       "      <td>14</td>\n",
       "      <td>0</td>\n",
       "      <td>5</td>\n",
       "      <td>3</td>\n",
       "      <td>2083</td>\n",
       "      <td>0</td>\n",
       "      <td>0</td>\n",
       "      <td>1</td>\n",
       "      <td>1</td>\n",
       "      <td>939</td>\n",
       "      <td>0</td>\n",
       "      <td>-1</td>\n",
       "    </tr>\n",
       "    <tr>\n",
       "      <th>50</th>\n",
       "      <td>4</td>\n",
       "      <td>23</td>\n",
       "      <td>0</td>\n",
       "      <td>8</td>\n",
       "      <td>3</td>\n",
       "      <td>2153</td>\n",
       "      <td>2</td>\n",
       "      <td>1</td>\n",
       "      <td>1</td>\n",
       "      <td>1</td>\n",
       "      <td>1007</td>\n",
       "      <td>0</td>\n",
       "      <td>-1</td>\n",
       "    </tr>\n",
       "    <tr>\n",
       "      <th>58</th>\n",
       "      <td>3</td>\n",
       "      <td>17</td>\n",
       "      <td>0</td>\n",
       "      <td>6</td>\n",
       "      <td>3</td>\n",
       "      <td>1311</td>\n",
       "      <td>2</td>\n",
       "      <td>1</td>\n",
       "      <td>1</td>\n",
       "      <td>1</td>\n",
       "      <td>738</td>\n",
       "      <td>0</td>\n",
       "      <td>-1</td>\n",
       "    </tr>\n",
       "    <tr>\n",
       "      <th>60</th>\n",
       "      <td>5</td>\n",
       "      <td>26</td>\n",
       "      <td>0</td>\n",
       "      <td>5</td>\n",
       "      <td>3</td>\n",
       "      <td>1243</td>\n",
       "      <td>9</td>\n",
       "      <td>1</td>\n",
       "      <td>1</td>\n",
       "      <td>1</td>\n",
       "      <td>769</td>\n",
       "      <td>0</td>\n",
       "      <td>-1</td>\n",
       "    </tr>\n",
       "    <tr>\n",
       "      <th>63</th>\n",
       "      <td>3</td>\n",
       "      <td>16</td>\n",
       "      <td>0</td>\n",
       "      <td>6</td>\n",
       "      <td>3</td>\n",
       "      <td>2017</td>\n",
       "      <td>2</td>\n",
       "      <td>0</td>\n",
       "      <td>0</td>\n",
       "      <td>1</td>\n",
       "      <td>705</td>\n",
       "      <td>0</td>\n",
       "      <td>-1</td>\n",
       "    </tr>\n",
       "    <tr>\n",
       "      <th>87</th>\n",
       "      <td>3</td>\n",
       "      <td>17</td>\n",
       "      <td>0</td>\n",
       "      <td>8</td>\n",
       "      <td>0</td>\n",
       "      <td>2126</td>\n",
       "      <td>1</td>\n",
       "      <td>1</td>\n",
       "      <td>1</td>\n",
       "      <td>1</td>\n",
       "      <td>892</td>\n",
       "      <td>0</td>\n",
       "      <td>-1</td>\n",
       "    </tr>\n",
       "    <tr>\n",
       "      <th>89</th>\n",
       "      <td>1</td>\n",
       "      <td>5</td>\n",
       "      <td>0</td>\n",
       "      <td>3</td>\n",
       "      <td>3</td>\n",
       "      <td>2059</td>\n",
       "      <td>2</td>\n",
       "      <td>0</td>\n",
       "      <td>1</td>\n",
       "      <td>1</td>\n",
       "      <td>503</td>\n",
       "      <td>0</td>\n",
       "      <td>-1</td>\n",
       "    </tr>\n",
       "    <tr>\n",
       "      <th>93</th>\n",
       "      <td>3</td>\n",
       "      <td>16</td>\n",
       "      <td>0</td>\n",
       "      <td>11</td>\n",
       "      <td>3</td>\n",
       "      <td>2313</td>\n",
       "      <td>2</td>\n",
       "      <td>1</td>\n",
       "      <td>1</td>\n",
       "      <td>1</td>\n",
       "      <td>828</td>\n",
       "      <td>0</td>\n",
       "      <td>-1</td>\n",
       "    </tr>\n",
       "    <tr>\n",
       "      <th>102</th>\n",
       "      <td>3</td>\n",
       "      <td>19</td>\n",
       "      <td>0</td>\n",
       "      <td>2</td>\n",
       "      <td>3</td>\n",
       "      <td>2409</td>\n",
       "      <td>1</td>\n",
       "      <td>0</td>\n",
       "      <td>0</td>\n",
       "      <td>1</td>\n",
       "      <td>994</td>\n",
       "      <td>1310</td>\n",
       "      <td>-1</td>\n",
       "    </tr>\n",
       "  </tbody>\n",
       "</table>\n",
       "</div>"
      ],
      "text/plain": [
       "     grade  sub_grade  short_emp  emp_length_num  home_ownership   dti  \\\n",
       "1        2         13          1               1               3    95   \n",
       "6        5         26          0               5               2   550   \n",
       "7        1          9          1               1               3  1803   \n",
       "10       2         10          1               1               3  1003   \n",
       "12       1          6          0               4               3   701   \n",
       "18       1          8          0              11               3  1317   \n",
       "21       1          7          0               2               3   235   \n",
       "23       2         11          0              10               3  1517   \n",
       "24       3         16          0               3               3  1392   \n",
       "41       0          4          0              11               0  1628   \n",
       "45       1          5          0               9               0   907   \n",
       "48       2         14          0               5               3  2083   \n",
       "50       4         23          0               8               3  2153   \n",
       "58       3         17          0               6               3  1311   \n",
       "60       5         26          0               5               3  1243   \n",
       "63       3         16          0               6               3  2017   \n",
       "87       3         17          0               8               0  2126   \n",
       "89       1          5          0               3               3  2059   \n",
       "93       3         16          0              11               3  2313   \n",
       "102      3         19          0               2               3  2409   \n",
       "\n",
       "     purpose  term  last_delinq_none  last_major_derog_none  revol_util  \\\n",
       "1          0     1                 1                      1         107   \n",
       "6          9     1                 1                      1         347   \n",
       "7          8     1                 1                      1         387   \n",
       "10         2     0                 1                      1         948   \n",
       "12         8     0                 1                      1         583   \n",
       "18         2     0                 1                      1         934   \n",
       "21         5     0                 1                      1         316   \n",
       "23         2     0                 1                      1         606   \n",
       "24         8     1                 0                      1         625   \n",
       "41         2     0                 1                      1         651   \n",
       "45         2     0                 1                      1         667   \n",
       "48         0     0                 1                      1         939   \n",
       "50         2     1                 1                      1        1007   \n",
       "58         2     1                 1                      1         738   \n",
       "60         9     1                 1                      1         769   \n",
       "63         2     0                 0                      1         705   \n",
       "87         1     1                 1                      1         892   \n",
       "89         2     0                 1                      1         503   \n",
       "93         2     1                 1                      1         828   \n",
       "102        1     0                 0                      1         994   \n",
       "\n",
       "     total_rec_late_fee  safe_loans  \n",
       "1                     0          -1  \n",
       "6                     0          -1  \n",
       "7                     0          -1  \n",
       "10                    0          -1  \n",
       "12                    0          -1  \n",
       "18                    0          -1  \n",
       "21                    0          -1  \n",
       "23                    0          -1  \n",
       "24                    0          -1  \n",
       "41                    0          -1  \n",
       "45                  840          -1  \n",
       "48                    0          -1  \n",
       "50                    0          -1  \n",
       "58                    0          -1  \n",
       "60                    0          -1  \n",
       "63                    0          -1  \n",
       "87                    0          -1  \n",
       "89                    0          -1  \n",
       "93                    0          -1  \n",
       "102                1310          -1  "
      ]
     },
     "execution_count": 19,
     "metadata": {},
     "output_type": "execute_result"
    }
   ],
   "source": [
    "loans_data.head(20)"
   ]
  },
  {
   "cell_type": "markdown",
   "metadata": {},
   "source": [
    "### Split training & test sets"
   ]
  },
  {
   "cell_type": "code",
   "execution_count": 20,
   "metadata": {
    "collapsed": false
   },
   "outputs": [
    {
     "name": "stdout",
     "output_type": "stream",
     "text": [
      "Number of training examples is 37040\n",
      "Number of validation examples 9260\n"
     ]
    }
   ],
   "source": [
    "# Divide data into training and test sets\n",
    "train_data, validation_data = train_test_split(loans_data_d, test_size= 0.2, random_state= 1)  #random_state==seed\n",
    "\n",
    "print('Number of training examples is', len(train_data))\n",
    "print('Number of validation examples', len(validation_data))"
   ]
  },
  {
   "cell_type": "markdown",
   "metadata": {},
   "source": [
    "### Function to compare classification models and their accuracies"
   ]
  },
  {
   "cell_type": "code",
   "execution_count": 21,
   "metadata": {
    "collapsed": false
   },
   "outputs": [],
   "source": [
    "def classification_model(model, data, predictors, outcome):\n",
    "    #Fit the model:\n",
    "    model.fit(data[predictors],data[outcome])\n",
    "\n",
    "    #Make predictions on training set:\n",
    "    predictions = model.predict(data[predictors])\n",
    "\n",
    "    #Print accuracy\n",
    "    accuracy = metrics.accuracy_score(predictions,data[outcome])\n",
    "    print('Accuracy:', accuracy)\n",
    "\n",
    "    #Perform k-fold cross-validation with 5 folds\n",
    "    kf = KFold(data.shape[0], n_folds=5)\n",
    "    error = []\n",
    "    \n",
    "    for train, test in kf:\n",
    "        # Filter training data\n",
    "        train_predictors = (data[predictors].iloc[train,:])\n",
    "\n",
    "        # The target we're using to train the algorithm.\n",
    "        train_target = data[outcome].iloc[train]\n",
    "\n",
    "        # Training the algorithm using the predictors and target.\n",
    "        model.fit(train_predictors, train_target)\n",
    "\n",
    "        #Record error from each cross-validation run\n",
    "        error.append(model.score(data[predictors].iloc[test,:], data[outcome].iloc[test]))\n",
    "\n",
    "    print('Cross-Validation Score:', np.mean(error))\n",
    "\n",
    "    #Fit the model again so that it can be refered outside the function:\n",
    "    mdl_output = model.fit(data[predictors],data[outcome])\n",
    "    \n",
    "    return mdl_output"
   ]
  },
  {
   "cell_type": "markdown",
   "metadata": {},
   "source": [
    "### Logistic Regression Test"
   ]
  },
  {
   "cell_type": "code",
   "execution_count": 22,
   "metadata": {
    "collapsed": false
   },
   "outputs": [
    {
     "name": "stdout",
     "output_type": "stream",
     "text": [
      "Accuracy: 0.638315334773\n",
      "Cross-Validation Score: 0.381771058315\n"
     ]
    },
    {
     "data": {
      "text/plain": [
       "LogisticRegression(C=1.0, class_weight=None, dual=False, fit_intercept=True,\n",
       "          intercept_scaling=1, max_iter=100, multi_class='ovr', n_jobs=1,\n",
       "          penalty='l2', random_state=None, solver='liblinear', tol=0.0001,\n",
       "          verbose=0, warm_start=False)"
      ]
     },
     "execution_count": 22,
     "metadata": {},
     "output_type": "execute_result"
    }
   ],
   "source": [
    "target = 'safe_loans'\n",
    "predictor_var = features\n",
    "\n",
    "\n",
    "model = LogisticRegression()\n",
    "\n",
    "classification_model(model, loans_data, predictor_var, target)"
   ]
  },
  {
   "cell_type": "markdown",
   "metadata": {},
   "source": [
    "### Decision Tree Test"
   ]
  },
  {
   "cell_type": "code",
   "execution_count": 23,
   "metadata": {
    "collapsed": false
   },
   "outputs": [
    {
     "name": "stdout",
     "output_type": "stream",
     "text": [
      "Accuracy: 0.636630669546\n",
      "Cross-Validation Score: 0.357710583153\n",
      "Accuracy: 0.612397408207\n",
      "Cross-Validation Score: 0.359244060475\n"
     ]
    },
    {
     "data": {
      "text/plain": [
       "DecisionTreeClassifier(class_weight=None, criterion='gini', max_depth=2,\n",
       "            max_features=None, max_leaf_nodes=None, min_samples_leaf=1,\n",
       "            min_samples_split=2, min_weight_fraction_leaf=0.0,\n",
       "            presort=False, random_state=None, splitter='best')"
      ]
     },
     "execution_count": 23,
     "metadata": {},
     "output_type": "execute_result"
    }
   ],
   "source": [
    "model = DecisionTreeClassifier(max_depth= 6)\n",
    "small_model = DecisionTreeClassifier(max_depth= 2)\n",
    "\n",
    "classification_model(model, loans_data, predictor_var, target)\n",
    "\n",
    "classification_model(small_model, loans_data, predictor_var, target)\n",
    "\n",
    "#export_graphviz()"
   ]
  },
  {
   "cell_type": "markdown",
   "metadata": {},
   "source": [
    "### Random Forest Test"
   ]
  },
  {
   "cell_type": "code",
   "execution_count": 24,
   "metadata": {
    "collapsed": false
   },
   "outputs": [
    {
     "name": "stdout",
     "output_type": "stream",
     "text": [
      "Accuracy: 1.0\n",
      "Cross-Validation Score: 0.414406047516\n"
     ]
    },
    {
     "data": {
      "text/plain": [
       "RandomForestClassifier(bootstrap=True, class_weight=None, criterion='gini',\n",
       "            max_depth=None, max_features='auto', max_leaf_nodes=None,\n",
       "            min_samples_leaf=1, min_samples_split=2,\n",
       "            min_weight_fraction_leaf=0.0, n_estimators=100, n_jobs=1,\n",
       "            oob_score=False, random_state=None, verbose=0,\n",
       "            warm_start=False)"
      ]
     },
     "execution_count": 24,
     "metadata": {},
     "output_type": "execute_result"
    }
   ],
   "source": [
    "model = RandomForestClassifier(n_estimators=100)\n",
    "\n",
    "classification_model(model, loans_data, predictor_var, target)"
   ]
  },
  {
   "cell_type": "markdown",
   "metadata": {},
   "source": [
    "### Order most important variables"
   ]
  },
  {
   "cell_type": "code",
   "execution_count": 25,
   "metadata": {
    "collapsed": false
   },
   "outputs": [
    {
     "data": {
      "text/plain": [
       "dti                      0.279787\n",
       "revol_util               0.270053\n",
       "sub_grade                0.113627\n",
       "emp_length_num           0.106010\n",
       "purpose                  0.074341\n",
       "grade                    0.040982\n",
       "home_ownership           0.030675\n",
       "total_rec_late_fee       0.026811\n",
       "last_delinq_none         0.018938\n",
       "term                     0.017973\n",
       "last_major_derog_none    0.012730\n",
       "short_emp                0.008074\n",
       "dtype: float64"
      ]
     },
     "execution_count": 25,
     "metadata": {},
     "output_type": "execute_result"
    }
   ],
   "source": [
    "featimp = pd.Series(model.feature_importances_, index= predictor_var).sort_values(ascending= False)\n",
    "\n",
    "featimp"
   ]
  },
  {
   "cell_type": "markdown",
   "metadata": {},
   "source": [
    "### Grab top n vars"
   ]
  },
  {
   "cell_type": "code",
   "execution_count": 26,
   "metadata": {
    "collapsed": true
   },
   "outputs": [],
   "source": [
    "new_features = ['sub_grade', \n",
    "                'emp_length_num',  \n",
    "                'dti', \n",
    "                'revol_util',\n",
    "               ]"
   ]
  },
  {
   "cell_type": "markdown",
   "metadata": {},
   "source": [
    "### Logistic Regression re-test"
   ]
  },
  {
   "cell_type": "code",
   "execution_count": 27,
   "metadata": {
    "collapsed": false
   },
   "outputs": [
    {
     "name": "stdout",
     "output_type": "stream",
     "text": [
      "Accuracy: 0.622915766739\n",
      "Cross-Validation Score: 0.355982721382\n"
     ]
    },
    {
     "data": {
      "text/plain": [
       "LogisticRegression(C=1.0, class_weight=None, dual=False, fit_intercept=True,\n",
       "          intercept_scaling=1, max_iter=100, multi_class='ovr', n_jobs=1,\n",
       "          penalty='l2', random_state=None, solver='liblinear', tol=0.0001,\n",
       "          verbose=0, warm_start=False)"
      ]
     },
     "execution_count": 27,
     "metadata": {},
     "output_type": "execute_result"
    }
   ],
   "source": [
    "target = 'safe_loans'\n",
    "predictor_var = new_features\n",
    "\n",
    "model = LogisticRegression()\n",
    "\n",
    "classification_model(model, loans_data, predictor_var, target)"
   ]
  },
  {
   "cell_type": "markdown",
   "metadata": {},
   "source": [
    "### Decision Tree re-test"
   ]
  },
  {
   "cell_type": "code",
   "execution_count": 28,
   "metadata": {
    "collapsed": false
   },
   "outputs": [
    {
     "name": "stdout",
     "output_type": "stream",
     "text": [
      "Accuracy: 0.999827213823\n",
      "Cross-Validation Score: 0.45252699784\n"
     ]
    },
    {
     "data": {
      "text/plain": [
       "DecisionTreeClassifier(class_weight=None, criterion='gini', max_depth=None,\n",
       "            max_features=None, max_leaf_nodes=None, min_samples_leaf=1,\n",
       "            min_samples_split=2, min_weight_fraction_leaf=0.0,\n",
       "            presort=False, random_state=None, splitter='best')"
      ]
     },
     "execution_count": 28,
     "metadata": {},
     "output_type": "execute_result"
    }
   ],
   "source": [
    "model = DecisionTreeClassifier()\n",
    "\n",
    "tree_output = classification_model(model, loans_data, predictor_var, target)\n",
    "tree_output"
   ]
  },
  {
   "cell_type": "markdown",
   "metadata": {},
   "source": [
    "### Random Forest re-test"
   ]
  },
  {
   "cell_type": "code",
   "execution_count": 29,
   "metadata": {
    "collapsed": false
   },
   "outputs": [
    {
     "name": "stdout",
     "output_type": "stream",
     "text": [
      "Accuracy: 0.999827213823\n",
      "Cross-Validation Score: 0.398963282937\n"
     ]
    },
    {
     "data": {
      "text/plain": [
       "RandomForestClassifier(bootstrap=True, class_weight=None, criterion='gini',\n",
       "            max_depth=None, max_features='auto', max_leaf_nodes=None,\n",
       "            min_samples_leaf=1, min_samples_split=2,\n",
       "            min_weight_fraction_leaf=0.0, n_estimators=100, n_jobs=1,\n",
       "            oob_score=False, random_state=None, verbose=0,\n",
       "            warm_start=False)"
      ]
     },
     "execution_count": 29,
     "metadata": {},
     "output_type": "execute_result"
    }
   ],
   "source": [
    "model = RandomForestClassifier(n_estimators=100)\n",
    "\n",
    "classification_model(model, loans_data, predictor_var, target)"
   ]
  },
  {
   "cell_type": "markdown",
   "metadata": {},
   "source": [
    "### New Feature by importance"
   ]
  },
  {
   "cell_type": "code",
   "execution_count": 30,
   "metadata": {
    "collapsed": false
   },
   "outputs": [
    {
     "data": {
      "text/plain": [
       "dti               0.375977\n",
       "revol_util        0.349962\n",
       "sub_grade         0.157938\n",
       "emp_length_num    0.116123\n",
       "dtype: float64"
      ]
     },
     "execution_count": 30,
     "metadata": {},
     "output_type": "execute_result"
    }
   ],
   "source": [
    "featimp = pd.Series(model.feature_importances_, index= predictor_var).sort_values(ascending= False)\n",
    "\n",
    "featimp"
   ]
  },
  {
   "cell_type": "markdown",
   "metadata": {
    "collapsed": true
   },
   "source": [
    "## Graphviz Testing - won't work until GraphViz is installed"
   ]
  },
  {
   "cell_type": "code",
   "execution_count": 31,
   "metadata": {
    "collapsed": false
   },
   "outputs": [],
   "source": [
    "#export_graphviz(tree_output, out_file= 'tree.dot')"
   ]
  },
  {
   "cell_type": "code",
   "execution_count": 32,
   "metadata": {
    "collapsed": false
   },
   "outputs": [],
   "source": [
    "#os.getcwd()"
   ]
  },
  {
   "cell_type": "code",
   "execution_count": 33,
   "metadata": {
    "collapsed": false
   },
   "outputs": [],
   "source": [
    "#dotfile = io.StringIO()\n",
    "#export_graphviz(tree_output, out_file=dotfile)\n",
    "#pydot.graph_from_dot_data(dotfile.getvalue()).write_png('tree_viz.png')"
   ]
  },
  {
   "cell_type": "code",
   "execution_count": 34,
   "metadata": {
    "collapsed": false
   },
   "outputs": [],
   "source": [
    "#(graph, ) = pydot.graph_from_dot_file('tree.dot')\n",
    "#graph.write_png('tree_viz.png')"
   ]
  },
  {
   "cell_type": "code",
   "execution_count": null,
   "metadata": {
    "collapsed": true
   },
   "outputs": [],
   "source": []
  }
 ],
 "metadata": {
  "kernelspec": {
   "display_name": "Python 3",
   "language": "python",
   "name": "python3"
  },
  "language_info": {
   "codemirror_mode": {
    "name": "ipython",
    "version": 3
   },
   "file_extension": ".py",
   "mimetype": "text/x-python",
   "name": "python",
   "nbconvert_exporter": "python",
   "pygments_lexer": "ipython3",
   "version": "3.5.1"
  }
 },
 "nbformat": 4,
 "nbformat_minor": 0
}
