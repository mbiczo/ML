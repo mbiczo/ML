{
 "cells": [
  {
   "cell_type": "code",
   "execution_count": 1,
   "metadata": {
    "collapsed": false
   },
   "outputs": [],
   "source": [
    "'''\n",
    "Build nearest neighbor clustering model to help identify similarities in groups.\n",
    "\n",
    "Ex: Cluster wiki articles based on topic to present to user as 'simiar' \n",
    "articles.\n",
    "'''\n",
    "\n",
    "import os\n",
    "import numpy as np\n",
    "import pandas as pd\n",
    "\n",
    "from scipy.sparse import csr_matrix\n",
    "#from scipy.sparse import csc_matrix\n",
    "\n",
    "from sklearn.neighbors import NearestNeighbors"
   ]
  },
  {
   "cell_type": "code",
   "execution_count": 2,
   "metadata": {
    "collapsed": false
   },
   "outputs": [
    {
     "data": {
      "text/html": [
       "<div>\n",
       "<table border=\"1\" class=\"dataframe\">\n",
       "  <thead>\n",
       "    <tr style=\"text-align: right;\">\n",
       "      <th></th>\n",
       "      <th>URI</th>\n",
       "      <th>name</th>\n",
       "      <th>text</th>\n",
       "    </tr>\n",
       "  </thead>\n",
       "  <tbody>\n",
       "    <tr>\n",
       "      <th>0</th>\n",
       "      <td>&lt;http://dbpedia.org/resource/Digby_Morrell&gt;</td>\n",
       "      <td>Digby Morrell</td>\n",
       "      <td>digby morrell born 10 october 1979 is a former...</td>\n",
       "    </tr>\n",
       "    <tr>\n",
       "      <th>1</th>\n",
       "      <td>&lt;http://dbpedia.org/resource/Alfred_J._Lewy&gt;</td>\n",
       "      <td>Alfred J. Lewy</td>\n",
       "      <td>alfred j lewy aka sandy lewy graduated from un...</td>\n",
       "    </tr>\n",
       "    <tr>\n",
       "      <th>2</th>\n",
       "      <td>&lt;http://dbpedia.org/resource/Harpdog_Brown&gt;</td>\n",
       "      <td>Harpdog Brown</td>\n",
       "      <td>harpdog brown is a singer and harmonica player...</td>\n",
       "    </tr>\n",
       "    <tr>\n",
       "      <th>3</th>\n",
       "      <td>&lt;http://dbpedia.org/resource/Franz_Rottensteiner&gt;</td>\n",
       "      <td>Franz Rottensteiner</td>\n",
       "      <td>franz rottensteiner born in waidmannsfeld lowe...</td>\n",
       "    </tr>\n",
       "    <tr>\n",
       "      <th>4</th>\n",
       "      <td>&lt;http://dbpedia.org/resource/G-Enka&gt;</td>\n",
       "      <td>G-Enka</td>\n",
       "      <td>henry krvits born 30 december 1974 in tallinn ...</td>\n",
       "    </tr>\n",
       "  </tbody>\n",
       "</table>\n",
       "</div>"
      ],
      "text/plain": [
       "                                                 URI                 name  \\\n",
       "0        <http://dbpedia.org/resource/Digby_Morrell>        Digby Morrell   \n",
       "1       <http://dbpedia.org/resource/Alfred_J._Lewy>       Alfred J. Lewy   \n",
       "2        <http://dbpedia.org/resource/Harpdog_Brown>        Harpdog Brown   \n",
       "3  <http://dbpedia.org/resource/Franz_Rottensteiner>  Franz Rottensteiner   \n",
       "4               <http://dbpedia.org/resource/G-Enka>               G-Enka   \n",
       "\n",
       "                                                text  \n",
       "0  digby morrell born 10 october 1979 is a former...  \n",
       "1  alfred j lewy aka sandy lewy graduated from un...  \n",
       "2  harpdog brown is a singer and harmonica player...  \n",
       "3  franz rottensteiner born in waidmannsfeld lowe...  \n",
       "4  henry krvits born 30 december 1974 in tallinn ...  "
      ]
     },
     "execution_count": 2,
     "metadata": {},
     "output_type": "execute_result"
    }
   ],
   "source": [
    "wiki_data = pd.read_csv('../data/Wikipedia/people_wiki.csv')\n",
    "wiki_data.head()"
   ]
  },
  {
   "cell_type": "code",
   "execution_count": 3,
   "metadata": {
    "collapsed": false
   },
   "outputs": [
    {
     "data": {
      "text/plain": [
       "['indices', 'indptr', 'shape', 'data']"
      ]
     },
     "execution_count": 3,
     "metadata": {},
     "output_type": "execute_result"
    }
   ],
   "source": [
    "word_count = np.load(r'../data/Wikipedia/people_wiki_word_count.npz')\n",
    "word_count.files"
   ]
  },
  {
   "cell_type": "code",
   "execution_count": 4,
   "metadata": {
    "collapsed": false
   },
   "outputs": [
    {
     "data": {
      "text/plain": [
       "array([  5877,  92219, 227191, ..., 547976, 547977, 547978], dtype=int32)"
      ]
     },
     "execution_count": 4,
     "metadata": {},
     "output_type": "execute_result"
    }
   ],
   "source": [
    "word_count['indices']"
   ]
  },
  {
   "cell_type": "code",
   "execution_count": 5,
   "metadata": {
    "collapsed": false,
    "scrolled": true
   },
   "outputs": [
    {
     "data": {
      "text/plain": [
       "array([       0,      139,      286, ..., 10379022, 10379155, 10379283], dtype=int32)"
      ]
     },
     "execution_count": 5,
     "metadata": {},
     "output_type": "execute_result"
    }
   ],
   "source": [
    "word_count['indptr']"
   ]
  },
  {
   "cell_type": "code",
   "execution_count": 6,
   "metadata": {
    "collapsed": false
   },
   "outputs": [
    {
     "data": {
      "text/plain": [
       "array([ 59071, 547979])"
      ]
     },
     "execution_count": 6,
     "metadata": {},
     "output_type": "execute_result"
    }
   ],
   "source": [
    "word_count['shape']"
   ]
  },
  {
   "cell_type": "code",
   "execution_count": 7,
   "metadata": {
    "collapsed": false
   },
   "outputs": [
    {
     "data": {
      "text/plain": [
       "array([ 1,  1,  1, ...,  6,  9, 14])"
      ]
     },
     "execution_count": 7,
     "metadata": {},
     "output_type": "execute_result"
    }
   ],
   "source": [
    "word_count['data']"
   ]
  },
  {
   "cell_type": "code",
   "execution_count": 8,
   "metadata": {
    "collapsed": false
   },
   "outputs": [],
   "source": [
    "def load_sparse_csr(filename):\n",
    "    loader = np.load(filename)\n",
    "    data = loader['data']\n",
    "    indices = loader['indices']\n",
    "    indptr = loader['indptr']\n",
    "    shape = loader['shape']\n",
    "    \n",
    "    return csr_matrix((data, indices, indptr), shape, dtype= 'int32')"
   ]
  },
  {
   "cell_type": "code",
   "execution_count": 9,
   "metadata": {
    "collapsed": false
   },
   "outputs": [],
   "source": [
    "word_count = load_sparse_csr(r'../data/Wikipedia/people_wiki_word_count.npz').toarray()"
   ]
  },
  {
   "cell_type": "code",
   "execution_count": 10,
   "metadata": {
    "collapsed": false
   },
   "outputs": [],
   "source": [
    "word_count_sample = word_count[:500]"
   ]
  },
  {
   "cell_type": "code",
   "execution_count": 11,
   "metadata": {
    "collapsed": false
   },
   "outputs": [
    {
     "data": {
      "text/plain": [
       "NearestNeighbors(algorithm='brute', leaf_size=30, metric='euclidean',\n",
       "         metric_params=None, n_jobs=1, n_neighbors=5, p=2, radius=1.0)"
      ]
     },
     "execution_count": 11,
     "metadata": {},
     "output_type": "execute_result"
    }
   ],
   "source": [
    "model = NearestNeighbors(metric= 'euclidean', algorithm= 'brute')\n",
    "\n",
    "model.fit(word_count_sample)"
   ]
  },
  {
   "cell_type": "code",
   "execution_count": 12,
   "metadata": {
    "collapsed": false
   },
   "outputs": [
    {
     "data": {
      "text/html": [
       "<div>\n",
       "<table border=\"1\" class=\"dataframe\">\n",
       "  <thead>\n",
       "    <tr style=\"text-align: right;\">\n",
       "      <th></th>\n",
       "      <th>URI</th>\n",
       "      <th>name</th>\n",
       "      <th>text</th>\n",
       "    </tr>\n",
       "  </thead>\n",
       "  <tbody>\n",
       "    <tr>\n",
       "      <th>35817</th>\n",
       "      <td>&lt;http://dbpedia.org/resource/Barack_Obama&gt;</td>\n",
       "      <td>Barack Obama</td>\n",
       "      <td>barack hussein obama ii brk husen bm born augu...</td>\n",
       "    </tr>\n",
       "  </tbody>\n",
       "</table>\n",
       "</div>"
      ],
      "text/plain": [
       "                                              URI          name  \\\n",
       "35817  <http://dbpedia.org/resource/Barack_Obama>  Barack Obama   \n",
       "\n",
       "                                                    text  \n",
       "35817  barack hussein obama ii brk husen bm born augu...  "
      ]
     },
     "execution_count": 12,
     "metadata": {},
     "output_type": "execute_result"
    }
   ],
   "source": [
    "wiki_data[wiki_data['name'] == 'Barack Obama']"
   ]
  },
  {
   "cell_type": "code",
   "execution_count": 13,
   "metadata": {
    "collapsed": false
   },
   "outputs": [
    {
     "data": {
      "text/plain": [
       "(500, 547979)"
      ]
     },
     "execution_count": 13,
     "metadata": {},
     "output_type": "execute_result"
    }
   ],
   "source": [
    "word_count_sample.shape"
   ]
  },
  {
   "cell_type": "code",
   "execution_count": 14,
   "metadata": {
    "collapsed": false
   },
   "outputs": [
    {
     "data": {
      "text/plain": [
       "dtype('int32')"
      ]
     },
     "execution_count": 14,
     "metadata": {},
     "output_type": "execute_result"
    }
   ],
   "source": [
    "word_count_sample.dtype"
   ]
  },
  {
   "cell_type": "code",
   "execution_count": 15,
   "metadata": {
    "collapsed": false
   },
   "outputs": [
    {
     "data": {
      "text/plain": [
       "273989500"
      ]
     },
     "execution_count": 15,
     "metadata": {},
     "output_type": "execute_result"
    }
   ],
   "source": [
    "word_count_sample.size"
   ]
  },
  {
   "cell_type": "code",
   "execution_count": 16,
   "metadata": {
    "collapsed": false
   },
   "outputs": [],
   "source": [
    "distances, indicies = model.kneighbors(word_count_sample[[42]], n_neighbors= 10)"
   ]
  },
  {
   "cell_type": "code",
   "execution_count": 17,
   "metadata": {
    "collapsed": false
   },
   "outputs": [
    {
     "data": {
      "text/plain": [
       "array([[  0.        ,  22.95648057,  24.20743687,  24.81934729,\n",
       "         24.8997992 ,  24.93992783,  25.05992817,  25.0998008 ,\n",
       "         25.17935662,  25.21904043]])"
      ]
     },
     "execution_count": 17,
     "metadata": {},
     "output_type": "execute_result"
    }
   ],
   "source": [
    "distances"
   ]
  },
  {
   "cell_type": "code",
   "execution_count": 18,
   "metadata": {
    "collapsed": false
   },
   "outputs": [
    {
     "data": {
      "text/plain": [
       "array([[ 42, 142,  55, 480, 496, 198, 438, 365, 111, 156]])"
      ]
     },
     "execution_count": 18,
     "metadata": {},
     "output_type": "execute_result"
    }
   ],
   "source": [
    "indicies"
   ]
  },
  {
   "cell_type": "code",
   "execution_count": 19,
   "metadata": {
    "collapsed": false
   },
   "outputs": [],
   "source": [
    "neighbors = pd.DataFrame({'distance':distances.flatten(), 'id':indicies.flatten()})"
   ]
  },
  {
   "cell_type": "code",
   "execution_count": 20,
   "metadata": {
    "collapsed": false
   },
   "outputs": [
    {
     "data": {
      "text/html": [
       "<div>\n",
       "<table border=\"1\" class=\"dataframe\">\n",
       "  <thead>\n",
       "    <tr style=\"text-align: right;\">\n",
       "      <th></th>\n",
       "      <th>distance</th>\n",
       "      <th>id</th>\n",
       "    </tr>\n",
       "  </thead>\n",
       "  <tbody>\n",
       "    <tr>\n",
       "      <th>0</th>\n",
       "      <td>0.000000</td>\n",
       "      <td>42</td>\n",
       "    </tr>\n",
       "    <tr>\n",
       "      <th>1</th>\n",
       "      <td>22.956481</td>\n",
       "      <td>142</td>\n",
       "    </tr>\n",
       "    <tr>\n",
       "      <th>2</th>\n",
       "      <td>24.207437</td>\n",
       "      <td>55</td>\n",
       "    </tr>\n",
       "    <tr>\n",
       "      <th>3</th>\n",
       "      <td>24.819347</td>\n",
       "      <td>480</td>\n",
       "    </tr>\n",
       "    <tr>\n",
       "      <th>4</th>\n",
       "      <td>24.899799</td>\n",
       "      <td>496</td>\n",
       "    </tr>\n",
       "    <tr>\n",
       "      <th>5</th>\n",
       "      <td>24.939928</td>\n",
       "      <td>198</td>\n",
       "    </tr>\n",
       "    <tr>\n",
       "      <th>6</th>\n",
       "      <td>25.059928</td>\n",
       "      <td>438</td>\n",
       "    </tr>\n",
       "    <tr>\n",
       "      <th>7</th>\n",
       "      <td>25.099801</td>\n",
       "      <td>365</td>\n",
       "    </tr>\n",
       "    <tr>\n",
       "      <th>8</th>\n",
       "      <td>25.179357</td>\n",
       "      <td>111</td>\n",
       "    </tr>\n",
       "    <tr>\n",
       "      <th>9</th>\n",
       "      <td>25.219040</td>\n",
       "      <td>156</td>\n",
       "    </tr>\n",
       "  </tbody>\n",
       "</table>\n",
       "</div>"
      ],
      "text/plain": [
       "    distance   id\n",
       "0   0.000000   42\n",
       "1  22.956481  142\n",
       "2  24.207437   55\n",
       "3  24.819347  480\n",
       "4  24.899799  496\n",
       "5  24.939928  198\n",
       "6  25.059928  438\n",
       "7  25.099801  365\n",
       "8  25.179357  111\n",
       "9  25.219040  156"
      ]
     },
     "execution_count": 20,
     "metadata": {},
     "output_type": "execute_result"
    }
   ],
   "source": [
    "neighbors"
   ]
  },
  {
   "cell_type": "code",
   "execution_count": 21,
   "metadata": {
    "collapsed": false,
    "scrolled": false
   },
   "outputs": [
    {
     "data": {
      "text/plain": [
       "<bound method DataFrame.join of                                                      URI  \\\n",
       "0            <http://dbpedia.org/resource/Digby_Morrell>   \n",
       "1           <http://dbpedia.org/resource/Alfred_J._Lewy>   \n",
       "2            <http://dbpedia.org/resource/Harpdog_Brown>   \n",
       "3      <http://dbpedia.org/resource/Franz_Rottensteiner>   \n",
       "4                   <http://dbpedia.org/resource/G-Enka>   \n",
       "5            <http://dbpedia.org/resource/Sam_Henderson>   \n",
       "6            <http://dbpedia.org/resource/Aaron_LaCrate>   \n",
       "7          <http://dbpedia.org/resource/Trevor_Ferguson>   \n",
       "8             <http://dbpedia.org/resource/Grant_Nelson>   \n",
       "9             <http://dbpedia.org/resource/Cathy_Caruth>   \n",
       "10            <http://dbpedia.org/resource/Sophie_Crumb>   \n",
       "11           <http://dbpedia.org/resource/Jenn_Ashworth>   \n",
       "12        <http://dbpedia.org/resource/Jonathan_Hoefler>   \n",
       "13     <http://dbpedia.org/resource/Anthony_Gueterboc...   \n",
       "14      <http://dbpedia.org/resource/David_Chernushenko>   \n",
       "15          <http://dbpedia.org/resource/Joerg_Steineck>   \n",
       "16          <http://dbpedia.org/resource/Andrew_Pinsent>   \n",
       "17     <http://dbpedia.org/resource/Paddy_Dunne_(Gael...   \n",
       "18       <http://dbpedia.org/resource/Alexandros_Mouzas>   \n",
       "19     <http://dbpedia.org/resource/John_Angus_Campbell>   \n",
       "20          <http://dbpedia.org/resource/Chris_Batstone>   \n",
       "21           <http://dbpedia.org/resource/Ceiron_Thomas>   \n",
       "22            <http://dbpedia.org/resource/Adel_Sellimi>   \n",
       "23           <http://dbpedia.org/resource/Faith_Soloway>   \n",
       "24            <http://dbpedia.org/resource/Tom_Jennings>   \n",
       "25             <http://dbpedia.org/resource/Vic_Stasiuk>   \n",
       "26         <http://dbpedia.org/resource/Anthony_Caruana>   \n",
       "27     <http://dbpedia.org/resource/Ian_Mitchell_(aut...   \n",
       "28            <http://dbpedia.org/resource/Leon_Hapgood>   \n",
       "29            <http://dbpedia.org/resource/Emily_Osment>   \n",
       "...                                                  ...   \n",
       "59041          <http://dbpedia.org/resource/Mokob%C3%A9>   \n",
       "59042      <http://dbpedia.org/resource/F._Enzio_Busche>   \n",
       "59043      <http://dbpedia.org/resource/Christian_Wiman>   \n",
       "59044  <http://dbpedia.org/resource/Ellyn_Setnor_Bogd...   \n",
       "59045          <http://dbpedia.org/resource/Katya_Adler>   \n",
       "59046   <http://dbpedia.org/resource/Anthony-Noel_Kelly>   \n",
       "59047       <http://dbpedia.org/resource/Mignon_Clyburn>   \n",
       "59048    <http://dbpedia.org/resource/Charles_A._Miller>   \n",
       "59049       <http://dbpedia.org/resource/Rodolfo_Parada>   \n",
       "59050  <http://dbpedia.org/resource/Giwi_Margwelaschw...   \n",
       "59051     <http://dbpedia.org/resource/Geoffrey_Kipsang>   \n",
       "59052         <http://dbpedia.org/resource/Dave_Nilsson>   \n",
       "59053       <http://dbpedia.org/resource/Jessica_Jordan>   \n",
       "59054     <http://dbpedia.org/resource/Marina_Mulyayeva>   \n",
       "59055  <http://dbpedia.org/resource/Jo%C3%ABl_de_Rosnay>   \n",
       "59056          <http://dbpedia.org/resource/Amy_Jenkins>   \n",
       "59057  <http://dbpedia.org/resource/Roy_Zimmerman_(sa...   \n",
       "59058        <http://dbpedia.org/resource/George_Krause>   \n",
       "59059           <http://dbpedia.org/resource/Sean_Slade>   \n",
       "59060         <http://dbpedia.org/resource/Lynne_Lipton>   \n",
       "59061             <http://dbpedia.org/resource/Rod_Wilt>   \n",
       "59062  <http://dbpedia.org/resource/Scott_Baker_(judge)>   \n",
       "59063  <http://dbpedia.org/resource/Dragoljub_Ojdani%...   \n",
       "59064            <http://dbpedia.org/resource/Oz_Bengur>   \n",
       "59065  <http://dbpedia.org/resource/Dee_Brown_(basket...   \n",
       "59066           <http://dbpedia.org/resource/Olari_Elts>   \n",
       "59067       <http://dbpedia.org/resource/Scott_F._Crago>   \n",
       "59068  <http://dbpedia.org/resource/David_Cass_(footb...   \n",
       "59069          <http://dbpedia.org/resource/Keith_Elias>   \n",
       "59070         <http://dbpedia.org/resource/Fawaz_Damrah>   \n",
       "\n",
       "                                          name  \\\n",
       "0                                Digby Morrell   \n",
       "1                               Alfred J. Lewy   \n",
       "2                                Harpdog Brown   \n",
       "3                          Franz Rottensteiner   \n",
       "4                                       G-Enka   \n",
       "5                                Sam Henderson   \n",
       "6                                Aaron LaCrate   \n",
       "7                              Trevor Ferguson   \n",
       "8                                 Grant Nelson   \n",
       "9                                 Cathy Caruth   \n",
       "10                                Sophie Crumb   \n",
       "11                               Jenn Ashworth   \n",
       "12                            Jonathan Hoefler   \n",
       "13     Anthony Gueterbock, 18th Baron Berkeley   \n",
       "14                          David Chernushenko   \n",
       "15                              Joerg Steineck   \n",
       "16                              Andrew Pinsent   \n",
       "17             Paddy Dunne (Gaelic footballer)   \n",
       "18                           Alexandros Mouzas   \n",
       "19                         John Angus Campbell   \n",
       "20                              Chris Batstone   \n",
       "21                               Ceiron Thomas   \n",
       "22                                Adel Sellimi   \n",
       "23                               Faith Soloway   \n",
       "24                                Tom Jennings   \n",
       "25                                 Vic Stasiuk   \n",
       "26                             Anthony Caruana   \n",
       "27                       Ian Mitchell (author)   \n",
       "28                                Leon Hapgood   \n",
       "29                                Emily Osment   \n",
       "...                                        ...   \n",
       "59041                              Mokob%C3%A9   \n",
       "59042                          F. Enzio Busche   \n",
       "59043                          Christian Wiman   \n",
       "59044                   Ellyn Setnor Bogdanoff   \n",
       "59045                              Katya Adler   \n",
       "59046                       Anthony-Noel Kelly   \n",
       "59047                           Mignon Clyburn   \n",
       "59048                        Charles A. Miller   \n",
       "59049                           Rodolfo Parada   \n",
       "59050                     Giwi Margwelaschwili   \n",
       "59051                         Geoffrey Kipsang   \n",
       "59052                             Dave Nilsson   \n",
       "59053                           Jessica Jordan   \n",
       "59054                         Marina Mulyayeva   \n",
       "59055                      Jo%C3%ABl de Rosnay   \n",
       "59056                              Amy Jenkins   \n",
       "59057                 Roy Zimmerman (satirist)   \n",
       "59058                            George Krause   \n",
       "59059                               Sean Slade   \n",
       "59060                             Lynne Lipton   \n",
       "59061                                 Rod Wilt   \n",
       "59062                      Scott Baker (judge)   \n",
       "59063                   Dragoljub Ojdani%C4%87   \n",
       "59064                                Oz Bengur   \n",
       "59065        Dee Brown (basketball, born 1968)   \n",
       "59066                               Olari Elts   \n",
       "59067                           Scott F. Crago   \n",
       "59068                  David Cass (footballer)   \n",
       "59069                              Keith Elias   \n",
       "59070                             Fawaz Damrah   \n",
       "\n",
       "                                                    text  \n",
       "0      digby morrell born 10 october 1979 is a former...  \n",
       "1      alfred j lewy aka sandy lewy graduated from un...  \n",
       "2      harpdog brown is a singer and harmonica player...  \n",
       "3      franz rottensteiner born in waidmannsfeld lowe...  \n",
       "4      henry krvits born 30 december 1974 in tallinn ...  \n",
       "5      sam henderson born october 18 1969 is an ameri...  \n",
       "6      aaron lacrate is an american music producer re...  \n",
       "7      trevor ferguson aka john farrow born 11 novemb...  \n",
       "8      grant nelson born 27 april 1971 in london also...  \n",
       "9      cathy caruth born 1955 is frank h t rhodes pro...  \n",
       "10     sophia violet sophie crumb born september 27 1...  \n",
       "11     jenn ashworth is an english writer she was bor...  \n",
       "12     jonathan hoefler born august 22 1970 is an ame...  \n",
       "13     anthony fitzhardinge gueterbock 18th baron ber...  \n",
       "14     david chernushenko born june 1963 in calgary a...  \n",
       "15     joerg steineck is a german filmmaker editor an...  \n",
       "16     fr andrew pinsent born 19 august 1966 is resea...  \n",
       "17     paddy dunne was a gaelic football player from ...  \n",
       "18     alexandros mouzas born 1962 is a greek compose...  \n",
       "19     john angus campbell born march 10 1942 in port...  \n",
       "20     chris batstone was the 20002002 lead singer of...  \n",
       "21     ceiron thomas born 23 october 1983 is a welsh ...  \n",
       "22     adel sellimi arabic was born on 16 november 19...  \n",
       "23     faith soloway born march 28 1964 is an america...  \n",
       "24     tom jennings born 1955 as thomas daniel jennin...  \n",
       "25     victor john stasiuk born may 23 1929 is a reti...  \n",
       "26     anthony caruana born 2 january 1968 is a melbo...  \n",
       "27     ian mitchell is a scottish author who grew up ...  \n",
       "28     leon duane hapgood born 7 august 1979is an eng...  \n",
       "29     emily jordan osment born march 10 1992 is an a...  \n",
       "...                                                  ...  \n",
       "59041  mokob traor better known by the mononym mokob ...  \n",
       "59042  friedrich enzio busche born 5 april 1930 dortm...  \n",
       "59043  christian wiman is an american poet and editor...  \n",
       "59044  ellyn setnor bogdanoff born october 17 1959 wa...  \n",
       "59045  katya adler born 1972 is a british journalist ...  \n",
       "59046  anthonynoel kelly born 1956 is a british artis...  \n",
       "59047  mignon l clyburn born march 22 1962 is a commi...  \n",
       "59048  charles a miller born october 27 1937 in washi...  \n",
       "59049  rodolfo parada lillo is a chilean musician com...  \n",
       "59050  giwi margwelaschwili georgian born december 14...  \n",
       "59051  geoffrey kipsang kamworor born 22 november 199...  \n",
       "59052  david wayne nilsson born 14 december 1969 is a...  \n",
       "59053  jessica anne jordan burton born 6 may 1984 in ...  \n",
       "59054  marina vladimirovna mulyayeva kazakh born apri...  \n",
       "59055  jol de rosnay born 1937 phd from the massachus...  \n",
       "59056  amy jenkins born 1966 in london is an english ...  \n",
       "59057  roy zimmerman born october 7 1957 is an americ...  \n",
       "59058  george krause born 1937 philadelphia pennsylva...  \n",
       "59059  sean slade b november 14 1957 lansing michigan...  \n",
       "59060  lynne lipton is an american film stage televis...  \n",
       "59061  rod wilt is a former republican member of the ...  \n",
       "59062  sir thomas scott gillespie baker born 10 decem...  \n",
       "59063  dragoljub ojdani serbian cyrillic born june 1 ...  \n",
       "59064  osman oz bengur born february 23 1949 is an am...  \n",
       "59065  decovan kadell dee brown born november 29 1968...  \n",
       "59066  olari elts born april 27 1971 in tallinn eston...  \n",
       "59067  scott francis crago born july 26 1963 twin bro...  \n",
       "59068  david william royce cass born 27 march 1962 in...  \n",
       "59069  keith hector elias born february 3 1972 in lac...  \n",
       "59070  fawaz mohammed damrah arabic fawwz damra was t...  \n",
       "\n",
       "[59071 rows x 3 columns]>"
      ]
     },
     "execution_count": 21,
     "metadata": {},
     "output_type": "execute_result"
    }
   ],
   "source": [
    "wiki_data.join"
   ]
  },
  {
   "cell_type": "code",
   "execution_count": null,
   "metadata": {
    "collapsed": true
   },
   "outputs": [],
   "source": []
  }
 ],
 "metadata": {
  "kernelspec": {
   "display_name": "Python 3",
   "language": "python",
   "name": "python3"
  },
  "language_info": {
   "codemirror_mode": {
    "name": "ipython",
    "version": 3
   },
   "file_extension": ".py",
   "mimetype": "text/x-python",
   "name": "python",
   "nbconvert_exporter": "python",
   "pygments_lexer": "ipython3",
   "version": "3.5.1"
  }
 },
 "nbformat": 4,
 "nbformat_minor": 0
}
